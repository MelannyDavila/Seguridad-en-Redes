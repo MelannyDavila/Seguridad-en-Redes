{
 "cells": [
  {
   "cell_type": "markdown",
   "id": "5492ec7b-7b34-4545-a144-d1289e64f8f9",
   "metadata": {},
   "source": [
    "## Jossue\n",
    "# es"
   ]
  },
  {
   "cell_type": "code",
   "execution_count": null,
   "id": "1fa89eb9-14c9-4c79-ba3f-18cb52b6e049",
   "metadata": {},
   "outputs": [],
   "source": []
  }
 ],
 "metadata": {
  "kernelspec": {
   "display_name": "Python 3",
   "language": "python",
   "name": "python3"
  },
  "language_info": {
   "codemirror_mode": {
    "name": "ipython",
    "version": 3
   },
   "file_extension": ".py",
   "mimetype": "text/x-python",
   "name": "python",
   "nbconvert_exporter": "python",
   "pygments_lexer": "ipython3",
   "version": "3.8.8"
  }
 },
 "nbformat": 4,
 "nbformat_minor": 5
}
