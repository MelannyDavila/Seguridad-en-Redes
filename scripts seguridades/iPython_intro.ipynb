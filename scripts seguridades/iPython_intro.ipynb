{
 "cells": [
  {
   "cell_type": "markdown",
   "metadata": {},
   "source": [
    "# iPython\n",
    "iPython significa Python Interactivo y es un conjunto de herramientas que envuelven el lenguaje de programación python para facilitar el uso de una herramienta interactiva y convertir rápidamente los resultados de una sesión interactiva en un script reutilizable.\n",
    "\n",
    "Abra el terminal de iPython y ejecute el siguiente comando\n",
    "\n",
    "    import time\n",
    "    time.[tab]\n",
    "Observe cómo el shell le proporciona un conjunto de opciones (o métodos) para el objeto time.\n",
    "Hay un montón de cosas más que hacen que iPython (mire [aquí](https://ipython.org/ipython-doc/2/interactive/tutorial.html)) "
   ]
  },
  {
   "cell_type": "markdown",
   "metadata": {},
   "source": []
  },
  {
   "cell_type": "markdown",
   "metadata": {},
   "source": [
    "# iPython Notebooks\n",
    "Son cuadernos HTML que te permiten combinar texto, imágenes y código. Es una forma rápida de crear scrips y análisis reutilizables. Aquí hay un ejemplo simple de cómo funciona un notbook.\n",
    "\n",
    "Un cuaderno se compone de diferentes tipos de celdas. Algunas celdas son celdas markdown como esta, otras son de código, como la siguiente:"
   ]
  },
  {
   "cell_type": "code",
   "execution_count": 1,
   "metadata": {},
   "outputs": [
    {
     "name": "stdout",
     "output_type": "stream",
     "text": [
      "HOla\n",
      "Almacenes de datos\n"
     ]
    }
   ],
   "source": [
    "print('HOla')\n",
    "print('Almacenes de datos')"
   ]
  },
  {
   "cell_type": "markdown",
   "metadata": {},
   "source": [
    "\n",
    "Puedes editar una celda haciendo doble clic en ella. Luego, cuando hayas terminado, pulsa shift+enter para ejecutarr una celda. Pruébalo en la celda de abajo. Deberías ver que la celda de salida se actualiza para reflejar la hora actual."
   ]
  },
  {
   "cell_type": "code",
   "execution_count": 5,
   "metadata": {},
   "outputs": [
    {
     "data": {
      "text/plain": [
       "'Tue Jun 22 10:57:58 2021'"
      ]
     },
     "execution_count": 5,
     "metadata": {},
     "output_type": "execute_result"
    }
   ],
   "source": [
    "import time\n",
    "time.ctime()"
   ]
  },
  {
   "cell_type": "code",
   "execution_count": null,
   "metadata": {},
   "outputs": [],
   "source": []
  },
  {
   "cell_type": "markdown",
   "metadata": {},
   "source": [
    "Puede insertar, eliminar y mover celdas utilizando los menús de edición e inserción de arriba."
   ]
  },
  {
   "cell_type": "code",
   "execution_count": null,
   "metadata": {},
   "outputs": [],
   "source": []
  }
 ],
 "metadata": {
  "kernelspec": {
   "display_name": "Python 3",
   "language": "python",
   "name": "python3"
  },
  "language_info": {
   "codemirror_mode": {
    "name": "ipython",
    "version": 3
   },
   "file_extension": ".py",
   "mimetype": "text/x-python",
   "name": "python",
   "nbconvert_exporter": "python",
   "pygments_lexer": "ipython3",
   "version": "3.8.8"
  }
 },
 "nbformat": 4,
 "nbformat_minor": 4
}
